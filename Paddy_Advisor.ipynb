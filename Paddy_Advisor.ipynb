{
  "cells": [
    {
      "cell_type": "markdown",
      "metadata": {
        "id": "view-in-github",
        "colab_type": "text"
      },
      "source": [
        "<a href=\"https://colab.research.google.com/github/Janani-Withana/Sinhala-Chatbot/blob/main/Paddy_Advisor.ipynb\" target=\"_parent\"><img src=\"https://colab.research.google.com/assets/colab-badge.svg\" alt=\"Open In Colab\"/></a>"
      ]
    },
    {
      "metadata": {
        "ExecuteTime": {
          "end_time": "2024-11-28T04:22:10.026554Z",
          "start_time": "2024-11-28T04:22:10.011353Z"
        },
        "id": "1fe746ff16728def"
      },
      "cell_type": "code",
      "source": [
        "import pandas as pd\n",
        "from sklearn.model_selection import train_test_split\n",
        "import torch\n",
        "from torch.utils.data import Dataset, DataLoader\n",
        "\n",
        "# Load the dataset\n",
        "data = pd.read_csv('sinhala_farming_data.csv')  # Replace with your dataset file name\n",
        "questions = data['Question'].values\n",
        "answers = data['Answer'].values\n",
        "\n",
        "# Split the dataset into training and testing sets\n",
        "train_questions, test_questions, train_answers, test_answers = train_test_split(\n",
        "    questions, answers, test_size=0.2, random_state=42)\n"
      ],
      "id": "1fe746ff16728def",
      "outputs": [],
      "execution_count": 4
    },
    {
      "metadata": {
        "ExecuteTime": {
          "end_time": "2024-11-28T04:23:29.545801Z",
          "start_time": "2024-11-28T04:22:29.811455Z"
        },
        "colab": {
          "base_uri": "https://localhost:8080/"
        },
        "id": "5b204eb4e36cd8ad",
        "outputId": "dd726e8b-c4a7-4dfc-81f8-0f2dc2dc24fd"
      },
      "cell_type": "code",
      "source": [
        "import nltk\n",
        "from nltk.tokenize import word_tokenize\n",
        "from collections import Counter\n",
        "import torch.nn.functional as F\n",
        "\n",
        "nltk.download('punkt')\n",
        "nltk.download('punkt_tab')\n",
        "\n",
        "# Tokenize questions and answers\n",
        "def tokenize(text):\n",
        "    return word_tokenize(text)\n",
        "\n",
        "train_questions = [tokenize(q) for q in train_questions]\n",
        "train_answers = [tokenize(a) for a in train_answers]\n",
        "\n",
        "# Build vocabulary\n",
        "def build_vocab(sentences):\n",
        "    counter = Counter()\n",
        "    for sentence in sentences:\n",
        "        counter.update(sentence)\n",
        "    return {word: idx+1 for idx, (word, _) in enumerate(counter.items())}  # idx+1 to reserve 0 for padding\n",
        "\n",
        "question_vocab = build_vocab(train_questions)\n",
        "answer_vocab = build_vocab(train_answers)\n",
        "\n",
        "# Add <PAD>, <SOS>, <EOS>\n",
        "PAD_TOKEN = 0\n",
        "SOS_TOKEN = len(answer_vocab) + 1\n",
        "EOS_TOKEN = len(answer_vocab) + 2\n",
        "\n",
        "answer_vocab['<SOS>'] = SOS_TOKEN\n",
        "answer_vocab['<EOS>'] = EOS_TOKEN\n"
      ],
      "id": "5b204eb4e36cd8ad",
      "outputs": [
        {
          "output_type": "stream",
          "name": "stderr",
          "text": [
            "[nltk_data] Downloading package punkt to /root/nltk_data...\n",
            "[nltk_data]   Package punkt is already up-to-date!\n",
            "[nltk_data] Downloading package punkt_tab to /root/nltk_data...\n",
            "[nltk_data]   Unzipping tokenizers/punkt_tab.zip.\n"
          ]
        }
      ],
      "execution_count": 5
    },
    {
      "metadata": {
        "ExecuteTime": {
          "end_time": "2024-11-28T04:24:31.222619Z",
          "start_time": "2024-11-28T04:24:31.218213Z"
        },
        "id": "7c3da53e971e40ea"
      },
      "cell_type": "code",
      "source": [
        "class ChatDataset(Dataset):\n",
        "    def __init__(self, questions, answers, question_vocab, answer_vocab, max_len=20):\n",
        "        self.questions = questions\n",
        "        self.answers = answers\n",
        "        self.question_vocab = question_vocab\n",
        "        self.answer_vocab = answer_vocab\n",
        "        self.max_len = max_len\n",
        "\n",
        "    def encode(self, sentence, vocab, max_len):\n",
        "        encoded = [vocab.get(word, PAD_TOKEN) for word in sentence]\n",
        "        return encoded[:max_len] + [PAD_TOKEN] * (max_len - len(encoded))\n",
        "\n",
        "    def __len__(self):\n",
        "        return len(self.questions)\n",
        "\n",
        "    def __getitem__(self, idx):\n",
        "        q_encoded = self.encode(self.questions[idx], self.question_vocab, self.max_len)\n",
        "        a_encoded = [SOS_TOKEN] + self.encode(self.answers[idx], self.answer_vocab, self.max_len) + [EOS_TOKEN]\n",
        "        return torch.tensor(q_encoded), torch.tensor(a_encoded)\n"
      ],
      "id": "7c3da53e971e40ea",
      "outputs": [],
      "execution_count": 6
    },
    {
      "metadata": {
        "ExecuteTime": {
          "end_time": "2024-11-28T04:24:38.770961Z",
          "start_time": "2024-11-28T04:24:38.767679Z"
        },
        "id": "2fedc9913f6667ad"
      },
      "cell_type": "code",
      "source": [
        "train_dataset = ChatDataset(train_questions, train_answers, question_vocab, answer_vocab)\n",
        "test_dataset = ChatDataset(test_questions, test_answers, question_vocab, answer_vocab)\n",
        "\n",
        "train_loader = DataLoader(train_dataset, batch_size=32, shuffle=True)\n",
        "test_loader = DataLoader(test_dataset, batch_size=32, shuffle=False)\n"
      ],
      "id": "2fedc9913f6667ad",
      "outputs": [],
      "execution_count": 7
    },
    {
      "metadata": {
        "ExecuteTime": {
          "end_time": "2024-11-28T04:24:45.634294Z",
          "start_time": "2024-11-28T04:24:45.629851Z"
        },
        "id": "53dcad63962667e1"
      },
      "cell_type": "code",
      "source": [
        "import torch.nn as nn\n",
        "\n",
        "class Seq2Seq(nn.Module):\n",
        "    def __init__(self, vocab_size, embedding_dim, hidden_dim, output_dim):\n",
        "        super(Seq2Seq, self).__init__()\n",
        "        self.embedding = nn.Embedding(vocab_size, embedding_dim, padding_idx=PAD_TOKEN)\n",
        "        self.encoder = nn.LSTM(embedding_dim, hidden_dim, batch_first=True)\n",
        "        self.decoder = nn.LSTM(embedding_dim, hidden_dim, batch_first=True)\n",
        "        self.fc = nn.Linear(hidden_dim, output_dim)\n",
        "\n",
        "    def forward(self, input, target):\n",
        "        embedded_input = self.embedding(input)\n",
        "        _, (hidden, cell) = self.encoder(embedded_input)\n",
        "\n",
        "        embedded_target = self.embedding(target)\n",
        "        decoder_output, _ = self.decoder(embedded_target, (hidden, cell))\n",
        "        output = self.fc(decoder_output)\n",
        "        return output\n"
      ],
      "id": "53dcad63962667e1",
      "outputs": [],
      "execution_count": 8
    },
    {
      "metadata": {
        "ExecuteTime": {
          "end_time": "2024-11-28T04:45:57.359316Z",
          "start_time": "2024-11-28T04:45:45.595648Z"
        },
        "colab": {
          "base_uri": "https://localhost:8080/"
        },
        "id": "459011e52e388dba",
        "outputId": "6448f752-72f9-42c9-8554-72666be8ddf3"
      },
      "cell_type": "code",
      "source": [
        "device = torch.device(\"cuda\" if torch.cuda.is_available() else \"cpu\")\n",
        "\n",
        "model = Seq2Seq(\n",
        "    vocab_size=len(question_vocab) + len(answer_vocab) + 3,  # +3 for PAD, SOS, EOS\n",
        "    embedding_dim=128,\n",
        "    hidden_dim=256,\n",
        "    output_dim=len(answer_vocab) + 3\n",
        ").to(device)\n",
        "\n",
        "criterion = nn.CrossEntropyLoss(ignore_index=PAD_TOKEN)\n",
        "optimizer = torch.optim.Adam(model.parameters(), lr=0.001)\n",
        "\n",
        "def train_epoch(model, loader, optimizer, criterion):\n",
        "    model.train()\n",
        "    epoch_loss = 0\n",
        "    for questions, answers in loader:\n",
        "        questions, answers = questions.to(device), answers.to(device)\n",
        "        optimizer.zero_grad()\n",
        "        outputs = model(questions, answers[:, :-1])  # Shift target by 1\n",
        "        loss = criterion(outputs.view(-1, outputs.size(-1)), answers[:, 1:].reshape(-1))  # Ignore <SOS>\n",
        "        loss.backward()\n",
        "        optimizer.step()\n",
        "        epoch_loss += loss.item()\n",
        "    return epoch_loss / len(loader)\n",
        "\n",
        "# Train the model\n",
        "for epoch in range(100):  # Adjust epochs as necessary\n",
        "    loss = train_epoch(model, train_loader, optimizer, criterion)\n",
        "    print(f\"Epoch {epoch+1}, Loss: {loss:.4f}\")\n"
      ],
      "id": "459011e52e388dba",
      "outputs": [
        {
          "output_type": "stream",
          "name": "stdout",
          "text": [
            "Epoch 1, Loss: 6.3378\n",
            "Epoch 2, Loss: 5.1640\n",
            "Epoch 3, Loss: 4.7441\n",
            "Epoch 4, Loss: 4.3999\n",
            "Epoch 5, Loss: 4.1107\n",
            "Epoch 6, Loss: 3.8728\n",
            "Epoch 7, Loss: 3.6368\n",
            "Epoch 8, Loss: 3.4105\n",
            "Epoch 9, Loss: 3.2441\n",
            "Epoch 10, Loss: 3.0656\n",
            "Epoch 11, Loss: 2.8980\n",
            "Epoch 12, Loss: 2.7476\n",
            "Epoch 13, Loss: 2.6090\n",
            "Epoch 14, Loss: 2.4789\n",
            "Epoch 15, Loss: 2.3497\n",
            "Epoch 16, Loss: 2.2229\n",
            "Epoch 17, Loss: 2.1084\n",
            "Epoch 18, Loss: 2.0009\n",
            "Epoch 19, Loss: 1.9000\n",
            "Epoch 20, Loss: 1.8027\n",
            "Epoch 21, Loss: 1.7106\n",
            "Epoch 22, Loss: 1.6252\n",
            "Epoch 23, Loss: 1.5258\n",
            "Epoch 24, Loss: 1.4479\n",
            "Epoch 25, Loss: 1.3693\n",
            "Epoch 26, Loss: 1.2951\n",
            "Epoch 27, Loss: 1.2303\n",
            "Epoch 28, Loss: 1.1622\n",
            "Epoch 29, Loss: 1.1065\n",
            "Epoch 30, Loss: 1.0468\n",
            "Epoch 31, Loss: 0.9955\n",
            "Epoch 32, Loss: 0.9401\n",
            "Epoch 33, Loss: 0.8945\n",
            "Epoch 34, Loss: 0.8433\n",
            "Epoch 35, Loss: 0.7995\n",
            "Epoch 36, Loss: 0.7622\n",
            "Epoch 37, Loss: 0.7211\n",
            "Epoch 38, Loss: 0.6834\n",
            "Epoch 39, Loss: 0.6488\n",
            "Epoch 40, Loss: 0.6155\n",
            "Epoch 41, Loss: 0.5867\n",
            "Epoch 42, Loss: 0.5556\n",
            "Epoch 43, Loss: 0.5287\n",
            "Epoch 44, Loss: 0.5037\n",
            "Epoch 45, Loss: 0.4748\n",
            "Epoch 46, Loss: 0.4525\n",
            "Epoch 47, Loss: 0.4293\n",
            "Epoch 48, Loss: 0.4040\n",
            "Epoch 49, Loss: 0.3840\n",
            "Epoch 50, Loss: 0.3640\n",
            "Epoch 51, Loss: 0.3461\n",
            "Epoch 52, Loss: 0.3278\n",
            "Epoch 53, Loss: 0.3086\n",
            "Epoch 54, Loss: 0.2939\n",
            "Epoch 55, Loss: 0.2782\n",
            "Epoch 56, Loss: 0.2614\n",
            "Epoch 57, Loss: 0.2485\n",
            "Epoch 58, Loss: 0.2322\n",
            "Epoch 59, Loss: 0.2185\n",
            "Epoch 60, Loss: 0.2043\n",
            "Epoch 61, Loss: 0.1931\n",
            "Epoch 62, Loss: 0.1826\n",
            "Epoch 63, Loss: 0.1726\n",
            "Epoch 64, Loss: 0.1628\n",
            "Epoch 65, Loss: 0.1531\n",
            "Epoch 66, Loss: 0.1429\n",
            "Epoch 67, Loss: 0.1358\n",
            "Epoch 68, Loss: 0.1301\n",
            "Epoch 69, Loss: 0.1229\n",
            "Epoch 70, Loss: 0.1170\n",
            "Epoch 71, Loss: 0.1089\n",
            "Epoch 72, Loss: 0.1021\n",
            "Epoch 73, Loss: 0.0964\n",
            "Epoch 74, Loss: 0.0900\n",
            "Epoch 75, Loss: 0.0854\n",
            "Epoch 76, Loss: 0.0806\n",
            "Epoch 77, Loss: 0.0758\n",
            "Epoch 78, Loss: 0.0727\n",
            "Epoch 79, Loss: 0.0684\n",
            "Epoch 80, Loss: 0.0641\n",
            "Epoch 81, Loss: 0.0610\n",
            "Epoch 82, Loss: 0.0583\n",
            "Epoch 83, Loss: 0.0558\n",
            "Epoch 84, Loss: 0.0533\n",
            "Epoch 85, Loss: 0.0509\n",
            "Epoch 86, Loss: 0.0493\n",
            "Epoch 87, Loss: 0.0473\n",
            "Epoch 88, Loss: 0.0454\n",
            "Epoch 89, Loss: 0.0432\n",
            "Epoch 90, Loss: 0.0415\n",
            "Epoch 91, Loss: 0.0405\n",
            "Epoch 92, Loss: 0.0396\n",
            "Epoch 93, Loss: 0.0382\n",
            "Epoch 94, Loss: 0.0372\n",
            "Epoch 95, Loss: 0.0358\n",
            "Epoch 96, Loss: 0.0351\n",
            "Epoch 97, Loss: 0.0338\n",
            "Epoch 98, Loss: 0.0323\n",
            "Epoch 99, Loss: 0.0327\n",
            "Epoch 100, Loss: 0.0343\n"
          ]
        }
      ],
      "execution_count": 9
    },
    {
      "metadata": {
        "ExecuteTime": {
          "end_time": "2024-11-28T04:46:06.352888Z",
          "start_time": "2024-11-28T04:46:06.347666Z"
        },
        "id": "b7ac40f12869ecb9"
      },
      "cell_type": "code",
      "source": [
        "import torch\n",
        "\n",
        "def preprocess_question(question, vocab, max_len):\n",
        "    \"\"\"\n",
        "    Tokenize and encode the question using the provided vocabulary and max length.\n",
        "    \"\"\"\n",
        "    tokens = word_tokenize(question)\n",
        "    encoded = [vocab.get(token, PAD_TOKEN) for token in tokens]  # Default to PAD_TOKEN for unknown words\n",
        "    return torch.tensor(encoded[:max_len] + [PAD_TOKEN] * (max_len - len(encoded)), dtype=torch.long)\n",
        "\n",
        "def generate_response(model, question, question_vocab, answer_vocab, max_len=20):\n",
        "    \"\"\"\n",
        "    Generate a response for a given question using the trained Seq2Seq model.\n",
        "    \"\"\"\n",
        "    model.eval()  # Set model to evaluation mode\n",
        "    with torch.no_grad():\n",
        "        # Preprocess the question\n",
        "        input_tensor = preprocess_question(question, question_vocab, max_len).unsqueeze(0).to(device)  # Add batch dimension\n",
        "\n",
        "        # Encode the question\n",
        "        embedded_input = model.embedding(input_tensor)\n",
        "        _, (hidden, cell) = model.encoder(embedded_input)\n",
        "\n",
        "        # Start decoding with <SOS> token\n",
        "        decoder_input = torch.tensor([[SOS_TOKEN]], dtype=torch.long).to(device)\n",
        "        response_tokens = []\n",
        "\n",
        "        for _ in range(max_len):\n",
        "            # Decode the next token\n",
        "            embedded_decoder_input = model.embedding(decoder_input)\n",
        "            decoder_output, (hidden, cell) = model.decoder(embedded_decoder_input, (hidden, cell))\n",
        "            output_token_logits = model.fc(decoder_output[:, -1, :])  # Get the last time-step output\n",
        "            predicted_token = output_token_logits.argmax(1).item()  # Get the token with highest probability\n",
        "            response_tokens.append(predicted_token)\n",
        "\n",
        "            if predicted_token == EOS_TOKEN:  # Stop decoding if <EOS> token is generated\n",
        "                break\n",
        "            decoder_input = torch.tensor([[predicted_token]], dtype=torch.long).to(device)\n",
        "\n",
        "        # Convert tokens back to words\n",
        "        idx_to_word = {idx: word for word, idx in answer_vocab.items()}\n",
        "        response = [idx_to_word[token] for token in response_tokens if token not in {PAD_TOKEN, SOS_TOKEN, EOS_TOKEN}]\n",
        "        return ' '.join(response)\n"
      ],
      "id": "b7ac40f12869ecb9",
      "outputs": [],
      "execution_count": 10
    },
    {
      "metadata": {
        "ExecuteTime": {
          "end_time": "2024-11-28T04:46:07.042689Z",
          "start_time": "2024-11-28T04:46:07.018539Z"
        },
        "colab": {
          "base_uri": "https://localhost:8080/"
        },
        "id": "f619b4c30988412e",
        "outputId": "d08bc619-4860-477f-98c6-510a4728e100"
      },
      "cell_type": "code",
      "source": [
        "# Test the chatbot\n",
        "input_question = \"වල් පැලෑටි පාලනය කරන්නේ කෙසේද?\"  # Replace with a Sinhala question\n",
        "response = generate_response(model, input_question, question_vocab, answer_vocab)\n",
        "print(\"Chatbot Response:\", response)"
      ],
      "id": "f619b4c30988412e",
      "outputs": [
        {
          "output_type": "stream",
          "name": "stdout",
          "text": [
            "Chatbot Response: වල් පැලෑටි රහිත බීජ භාවිතා කරන්න , නිසි ලෙස බිම් මට්ටම් කිරීමට පුරුදු වන්න , සහ පෙර මතුවීමට පෙර වල්\n"
          ]
        }
      ],
      "execution_count": 20
    },
    {
      "metadata": {
        "id": "c44e7727b1d3b7ea"
      },
      "cell_type": "code",
      "outputs": [],
      "execution_count": 13,
      "source": [
        "torch.save(model.state_dict(), 'sinhala_chatbot_model.pth')"
      ],
      "id": "c44e7727b1d3b7ea"
    },
    {
      "metadata": {
        "colab": {
          "base_uri": "https://localhost:8080/"
        },
        "id": "6a1d0def25a93a82",
        "outputId": "97cf0faf-89c1-497a-abe7-f5dff613b194"
      },
      "cell_type": "code",
      "outputs": [
        {
          "output_type": "stream",
          "name": "stderr",
          "text": [
            "<ipython-input-14-adcd344de240>:9: FutureWarning: You are using `torch.load` with `weights_only=False` (the current default value), which uses the default pickle module implicitly. It is possible to construct malicious pickle data which will execute arbitrary code during unpickling (See https://github.com/pytorch/pytorch/blob/main/SECURITY.md#untrusted-models for more details). In a future release, the default value for `weights_only` will be flipped to `True`. This limits the functions that could be executed during unpickling. Arbitrary objects will no longer be allowed to be loaded via this mode unless they are explicitly allowlisted by the user via `torch.serialization.add_safe_globals`. We recommend you start setting `weights_only=True` for any use case where you don't have full control of the loaded file. Please open an issue on GitHub for any issues related to this experimental feature.\n",
            "  model.load_state_dict(torch.load('sinhala_chatbot_model.pth', map_location=device))\n"
          ]
        },
        {
          "output_type": "execute_result",
          "data": {
            "text/plain": [
              "<All keys matched successfully>"
            ]
          },
          "metadata": {},
          "execution_count": 14
        }
      ],
      "execution_count": 14,
      "source": [
        "# Load the trained model\n",
        "model = Seq2Seq(\n",
        "    vocab_size=len(question_vocab) + len(answer_vocab) + 3,  # +3 for PAD, SOS, EOS\n",
        "    embedding_dim=128,\n",
        "    hidden_dim=256,\n",
        "    output_dim=len(answer_vocab) + 3\n",
        ").to(device)\n",
        "\n",
        "model.load_state_dict(torch.load('sinhala_chatbot_model.pth', map_location=device))"
      ],
      "id": "6a1d0def25a93a82"
    }
  ],
  "metadata": {
    "kernelspec": {
      "display_name": "Python 3",
      "language": "python",
      "name": "python3"
    },
    "language_info": {
      "codemirror_mode": {
        "name": "ipython",
        "version": 2
      },
      "file_extension": ".py",
      "mimetype": "text/x-python",
      "name": "python",
      "nbconvert_exporter": "python",
      "pygments_lexer": "ipython2",
      "version": "2.7.6"
    },
    "colab": {
      "provenance": [],
      "include_colab_link": true
    }
  },
  "nbformat": 4,
  "nbformat_minor": 5
}